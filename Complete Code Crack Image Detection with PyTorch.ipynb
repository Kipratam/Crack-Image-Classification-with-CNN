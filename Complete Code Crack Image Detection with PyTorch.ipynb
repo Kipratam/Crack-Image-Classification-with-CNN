{
 "cells": [
  {
   "cell_type": "markdown",
   "id": "63bf8731",
   "metadata": {},
   "source": [
    "<h1>Crack Image Detection</h1> \n"
   ]
  },
  {
   "cell_type": "markdown",
   "id": "bc1655c6",
   "metadata": {},
   "source": [
    "<h2>Preparation</h2>\n"
   ]
  },
  {
   "cell_type": "code",
   "execution_count": 21,
   "id": "0145a575",
   "metadata": {},
   "outputs": [],
   "source": [
    "# Import the libraries we need to use in this lab\n",
    "\n",
    "import torch\n",
    "import torch.nn as nn\n",
    "import torchvision.transforms as transforms\n",
    "import matplotlib.pylab as plt\n",
    "import numpy as np\n",
    "import os\n",
    "import time\n",
    "from PIL import Image\n",
    "from torch.utils.data import TensorDataset\n",
    "from torch.utils.data import Dataset\n",
    "from torch.utils.data import Subset, DataLoader\n",
    "import skillsnetwork "
   ]
  },
  {
   "cell_type": "markdown",
   "id": "3550d85e",
   "metadata": {},
   "source": [
    "<h2>Define dataset class</h2>\n"
   ]
  },
  {
   "cell_type": "code",
   "execution_count": 12,
   "id": "b381c08d",
   "metadata": {},
   "outputs": [],
   "source": [
    "# Define your dataset class\n",
    "class Dataset(Dataset):\n",
    "    # Constructor\n",
    "    def __init__(self, transform=None, train=True):\n",
    "        # Directory of the data\n",
    "        directory = \"C:/Users/ASUS/Documents/Coursera/Coursera Specialization/IBM AI Engineering/AI Capstone Project with Deep Learning/Data/\"\n",
    "        positive = \"Positive\"\n",
    "        negative = \"Negative\"\n",
    "        \n",
    "        # Path of the negative and positive data\n",
    "        positive_file_path = os.path.join(directory, positive)\n",
    "        negative_file_path = os.path.join(directory, negative)\n",
    "        \n",
    "        # Get the data\n",
    "        positive_files = [os.path.join(positive_file_path, file) for file in os.listdir(positive_file_path)]\n",
    "        positive_files.sort()\n",
    "        negative_files = [os.path.join(negative_file_path, file) for file in os.listdir(negative_file_path)]\n",
    "        negative_files.sort()\n",
    "        \n",
    "        number_of_samples = len(positive_files) + len(negative_files)\n",
    "        \n",
    "        self.all_files = [None] * number_of_samples\n",
    "        self.all_files[::2] = positive_files\n",
    "        self.all_files[1::2] = negative_files \n",
    "\n",
    "        self.transform = transform\n",
    "        \n",
    "        # Define the target values\n",
    "        self.Y = torch.zeros([number_of_samples]).type(torch.LongTensor)\n",
    "        self.Y[::2] = 1  # Positive class\n",
    "        self.Y[1::2] = 0  # Negative class\n",
    "        \n",
    "        # Define the train and test dataset\n",
    "        if train:\n",
    "            self.all_files=self.all_files[0:10000]\n",
    "            self.Y=self.Y[0:10000]\n",
    "            self.len=len(self.all_files)\n",
    "            \n",
    "        else:\n",
    "            self.all_files=self.all_files[30000:]\n",
    "            self.Y=self.Y[30000:]\n",
    "            self.len=len(self.all_files)    \n",
    "\n",
    "    # Get the length of the dataset\n",
    "    def __len__(self):\n",
    "        return self.len\n",
    "\n",
    "    # Getter to retrieve an image and label pair\n",
    "    def __getitem__(self, idx):\n",
    "        image = Image.open(self.all_files[idx]).convert('RGB')  # Ensure all images are RGB\n",
    "        y = self.Y[idx]\n",
    "\n",
    "        # If there is a transform, apply it\n",
    "        if self.transform:\n",
    "            image = self.transform(image)\n",
    "\n",
    "        return image, y"
   ]
  },
  {
   "cell_type": "code",
   "execution_count": 16,
   "id": "5ffbdcd1",
   "metadata": {},
   "outputs": [],
   "source": [
    "class CNN(nn.Module):\n",
    "\n",
    "    # Contructor\n",
    "    def __init__(self, out_1=32, out_2=64, out_3=64):\n",
    "        super(CNN, self).__init__()\n",
    "        self.cnn1 = nn.Conv2d(in_channels=3, out_channels=out_1, kernel_size=3, padding=1)\n",
    "        self.maxpool1=nn.MaxPool2d(kernel_size=2)\n",
    "\n",
    "        self.cnn2 = nn.Conv2d(in_channels=out_1, out_channels=out_2, kernel_size=3, stride=1, padding=1)\n",
    "        self.maxpool2=nn.MaxPool2d(kernel_size=2)\n",
    "        \n",
    "        self.cnn3 = nn.Conv2d(in_channels=out_2, out_channels=out_3, kernel_size=3, stride=1, padding=1)\n",
    "        self.maxpool3=nn.MaxPool2d(kernel_size=2)\n",
    "        \n",
    "        self.fc1_input_size = out_3 * 18 * 18\n",
    "        \n",
    "        self.fc1 = nn.Linear(self.fc1_input_size, 2)\n",
    "    \n",
    "    # Prediction\n",
    "    def forward(self, x):\n",
    "        x = self.cnn1(x)\n",
    "        x = torch.relu(x)\n",
    "        x = self.maxpool1(x)\n",
    "        x = self.cnn2(x)\n",
    "        x = torch.relu(x)\n",
    "        x = self.maxpool2(x)\n",
    "        x = self.cnn3(x)\n",
    "        x = torch.relu(x)\n",
    "        x = self.maxpool3(x)\n",
    "        x = x.view(-1, self.fc1_input_size)\n",
    "        x = self.fc1(x)\n",
    "        return x"
   ]
  },
  {
   "cell_type": "markdown",
   "id": "48c454b1",
   "metadata": {},
   "source": [
    "<h2>Define criterion</h2>\n"
   ]
  },
  {
   "cell_type": "code",
   "execution_count": 14,
   "id": "086109f2",
   "metadata": {},
   "outputs": [],
   "source": [
    "def Criterion():\n",
    "    criterion = nn.CrossEntropyLoss()\n",
    "\n",
    "    return Criterion"
   ]
  },
  {
   "cell_type": "markdown",
   "id": "7ad7d784",
   "metadata": {},
   "source": [
    "<h2>Define optimizer</h2>\n"
   ]
  },
  {
   "cell_type": "code",
   "execution_count": 15,
   "id": "2528f9a5",
   "metadata": {},
   "outputs": [],
   "source": [
    "def Optimizer(model, learning_rate):\n",
    "    lr = learning_rate\n",
    "    optimizer = torch.optim.SGD(model.parameters(), lr = learning_rate, momentum=0.9)\n",
    "    \n",
    "    return optimizer"
   ]
  },
  {
   "cell_type": "markdown",
   "id": "f203567b",
   "metadata": {},
   "source": [
    "<h2>Import dataset</h2>\n"
   ]
  },
  {
   "cell_type": "code",
   "execution_count": 25,
   "id": "de2abe0d",
   "metadata": {},
   "outputs": [
    {
     "ename": "TypeError",
     "evalue": "Dataset() takes no arguments",
     "output_type": "error",
     "traceback": [
      "\u001b[1;31m---------------------------------------------------------------------------\u001b[0m",
      "\u001b[1;31mTypeError\u001b[0m                                 Traceback (most recent call last)",
      "Input \u001b[1;32mIn [25]\u001b[0m, in \u001b[0;36m<cell line: 19>\u001b[1;34m()\u001b[0m\n\u001b[0;32m     12\u001b[0m transform \u001b[38;5;241m=\u001b[39m transforms\u001b[38;5;241m.\u001b[39mCompose([\n\u001b[0;32m     13\u001b[0m     transforms\u001b[38;5;241m.\u001b[39mResize((\u001b[38;5;241m150\u001b[39m, \u001b[38;5;241m150\u001b[39m)),\n\u001b[0;32m     14\u001b[0m     transforms\u001b[38;5;241m.\u001b[39mToTensor(),\n\u001b[0;32m     15\u001b[0m     transforms\u001b[38;5;241m.\u001b[39mNormalize(mean, std)\n\u001b[0;32m     16\u001b[0m ])\n\u001b[0;32m     18\u001b[0m \u001b[38;5;66;03m# Create training and validation datasets using the normalization\u001b[39;00m\n\u001b[1;32m---> 19\u001b[0m train_dataset \u001b[38;5;241m=\u001b[39m \u001b[43mDataset\u001b[49m\u001b[43m(\u001b[49m\u001b[43mtransform\u001b[49m\u001b[38;5;241;43m=\u001b[39;49m\u001b[43mtransform_rotate\u001b[49m\u001b[43m,\u001b[49m\u001b[43m \u001b[49m\u001b[43mtrain\u001b[49m\u001b[38;5;241;43m=\u001b[39;49m\u001b[38;5;28;43;01mTrue\u001b[39;49;00m\u001b[43m)\u001b[49m\n\u001b[0;32m     20\u001b[0m validation_dataset \u001b[38;5;241m=\u001b[39m Dataset(transform\u001b[38;5;241m=\u001b[39mtransform, train\u001b[38;5;241m=\u001b[39m\u001b[38;5;28;01mFalse\u001b[39;00m)\n",
      "\u001b[1;31mTypeError\u001b[0m: Dataset() takes no arguments"
     ]
    }
   ],
   "source": [
    "mean = [0.485, 0.456, 0.406]\n",
    "std = [0.229, 0.224, 0.225]\n",
    "\n",
    "# Define transforms with the computed mean and std\n",
    "transform_rotate = transforms.Compose([\n",
    "    transforms.Resize((224, 224)),\n",
    "    transforms.RandomRotation(degrees=5),\n",
    "    transforms.ToTensor(),\n",
    "    transforms.Normalize(mean, std)\n",
    "])\n",
    "\n",
    "transform = transforms.Compose([\n",
    "    transforms.Resize((150, 150)),\n",
    "    transforms.ToTensor(),\n",
    "    transforms.Normalize(mean, std)\n",
    "])\n",
    "\n",
    "# Create training and validation datasets using the normalization\n",
    "train_dataset = Dataset(transform=transform_rotate, train=True)\n",
    "validation_dataset = Dataset(transform=transform, train=False)"
   ]
  },
  {
   "cell_type": "code",
   "execution_count": 17,
   "id": "befa1213",
   "metadata": {},
   "outputs": [],
   "source": [
    "# Define the model\n",
    "model = CNN()\n",
    "\n",
    "# Define the criterion\n",
    "criterion = nn.CrossEntropyLoss()\n",
    "\n",
    "# Define the optimizer\n",
    "optimizer = Optimizer(model, 0.001)\n",
    "\n",
    "# Define the train and validation dataset loader\n",
    "train_loader = torch.utils.data.DataLoader(dataset=train_dataset, batch_size=32)\n",
    "validation_loader = torch.utils.data.DataLoader(dataset=validation_dataset, batch_size=1)"
   ]
  },
  {
   "cell_type": "code",
   "execution_count": 18,
   "id": "2ea0ff74",
   "metadata": {},
   "outputs": [
    {
     "name": "stdout",
     "output_type": "stream",
     "text": [
      "CNN(\n",
      "  (cnn1): Conv2d(3, 32, kernel_size=(3, 3), stride=(1, 1), padding=(1, 1))\n",
      "  (maxpool1): MaxPool2d(kernel_size=2, stride=2, padding=0, dilation=1, ceil_mode=False)\n",
      "  (cnn2): Conv2d(32, 64, kernel_size=(3, 3), stride=(1, 1), padding=(1, 1))\n",
      "  (maxpool2): MaxPool2d(kernel_size=2, stride=2, padding=0, dilation=1, ceil_mode=False)\n",
      "  (cnn3): Conv2d(64, 64, kernel_size=(3, 3), stride=(1, 1), padding=(1, 1))\n",
      "  (maxpool3): MaxPool2d(kernel_size=2, stride=2, padding=0, dilation=1, ceil_mode=False)\n",
      "  (fc1): Linear(in_features=20736, out_features=2, bias=True)\n",
      ")\n"
     ]
    }
   ],
   "source": [
    "# Machine learning model\n",
    "print(model)"
   ]
  },
  {
   "cell_type": "markdown",
   "id": "326a64d1",
   "metadata": {},
   "source": [
    "<h2>Train the model</h2>\n"
   ]
  },
  {
   "cell_type": "code",
   "execution_count": 22,
   "id": "15698d8d",
   "metadata": {},
   "outputs": [],
   "source": [
    "n_epochs=1\n",
    "loss_list=[]\n",
    "accuracy_list=[]\n",
    "correct=0\n",
    "N_test=len(validation_dataset)\n",
    "N_train=len(train_dataset)\n",
    "start_time = time.time()\n",
    "#n_epochs\n",
    "\n",
    "Loss=0\n",
    "start_time = time.time()\n",
    "for epoch in range(n_epochs):\n",
    "    for x, y in train_loader:\n",
    "\n",
    "        model.train() \n",
    "        #clear gradient\n",
    "        \n",
    "        optimizer.zero_grad()\n",
    "        #make a prediction \n",
    "        \n",
    "        z = model(x)\n",
    "        # calculate loss \n",
    "        \n",
    "        loss = criterion(z, y)\n",
    "        # calculate gradients of parameters\n",
    "        \n",
    "        loss.backward()\n",
    "        # update parameters\n",
    "        \n",
    "        optimizer.step()\n",
    "        loss_list.append(loss.data)\n",
    "    correct=0\n",
    "    \n",
    "    for x_test, y_test in validation_loader:\n",
    "        # set model to eval \n",
    "        model.eval()\n",
    "        \n",
    "        #make a prediction \n",
    "        z = model(x_test)\n",
    "        \n",
    "        #find max \n",
    "        _, yhat = torch.max(z.data, 1)\n",
    "        correct += (yhat == y_test).sum().item()\n",
    "        \n",
    "        #Calculate misclassified  samples in mini-batch \n",
    "        #hint +=(yhat==y_test).sum().item()\n",
    "    accuracy = correct / N_test\n",
    "    accuracy_list.append(accuracy)\n",
    "   \n",
    "    accuracy=correct/N_test"
   ]
  },
  {
   "cell_type": "code",
   "execution_count": 23,
   "id": "f43a5566",
   "metadata": {
    "tags": []
   },
   "outputs": [
    {
     "data": {
      "text/plain": [
       "0.9604"
      ]
     },
     "execution_count": 23,
     "metadata": {},
     "output_type": "execute_result"
    }
   ],
   "source": [
    "accuracy"
   ]
  },
  {
   "cell_type": "code",
   "execution_count": 24,
   "id": "4da5ce3e",
   "metadata": {},
   "outputs": [
    {
     "data": {
      "text/plain": [
       "Text(0.5, 1.0, 'Loss vs Iteration')"
      ]
     },
     "execution_count": 24,
     "metadata": {},
     "output_type": "execute_result"
    },
    {
     "data": {
      "image/png": "[encoded data removed]",
      "text/plain": [
       "<Figure size 432x288 with 1 Axes>"
      ]
     },
     "metadata": {
      "needs_background": "light"
     },
     "output_type": "display_data"
    }
   ],
   "source": [
    "# Plot the loss and accuracy\n",
    "\n",
    "plt.plot( loss_list)\n",
    "plt.xlabel('Iteration')\n",
    "plt.ylabel('Loss')\n",
    "plt.title('Loss vs Iteration')"
   ]
  }
 ],
 "metadata": {
  "kernelspec": {
   "display_name": "Python 3 (ipykernel)",
   "language": "python",
   "name": "python3"
  },
  "language_info": {
   "codemirror_mode": {
    "name": "ipython",
    "version": 3
   },
   "file_extension": ".py",
   "mimetype": "text/x-python",
   "name": "python",
   "nbconvert_exporter": "python",
   "pygments_lexer": "ipython3",
   "version": "3.9.12"
  }
 },
 "nbformat": 4,
 "nbformat_minor": 5
}
